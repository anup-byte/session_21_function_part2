{
 "cells": [
  {
   "cell_type": "code",
   "execution_count": null,
   "id": "fb519924",
   "metadata": {},
   "outputs": [],
   "source": [
    " #Link for youtube video of this sheet"
   ]
  },
  {
   "cell_type": "code",
   "execution_count": null,
   "id": "f83cc959",
   "metadata": {},
   "outputs": [],
   "source": [
    "#function\n",
    "# function is a group of related statements that perform some specific task\n",
    "#It avoids repitation and makes our code reusable\n",
    "#Function help break our program into smaller and modular chunks"
   ]
  },
  {
   "cell_type": "code",
   "execution_count": null,
   "id": "d4ac11b2",
   "metadata": {},
   "outputs": [],
   "source": [
    "#Syntax:\n",
    "\n",
    "def function_name(parameters/argument):\n",
    "    \n",
    "    '''\n",
    "    Doc String\n",
    "    \n",
    "    '''\n",
    "    body of the function\n",
    "    \n",
    "    return "
   ]
  },
  {
   "cell_type": "code",
   "execution_count": 1,
   "id": "a1784778",
   "metadata": {},
   "outputs": [],
   "source": [
    "def function_name():\n",
    "    # function body starts \n",
    "    \n",
    "    pass\n",
    "    \n",
    "    # function body ends\n",
    "    \n",
    "#call function in the code    "
   ]
  },
  {
   "cell_type": "code",
   "execution_count": 2,
   "id": "50706d73",
   "metadata": {},
   "outputs": [],
   "source": [
    "function_name()"
   ]
  },
  {
   "cell_type": "code",
   "execution_count": 3,
   "id": "ff277e27",
   "metadata": {},
   "outputs": [
    {
     "ename": "SyntaxError",
     "evalue": "incomplete input (2221083814.py, line 8)",
     "output_type": "error",
     "traceback": [
      "\u001b[0;36m  Cell \u001b[0;32mIn[3], line 8\u001b[0;36m\u001b[0m\n\u001b[0;31m    #call function in the code\u001b[0m\n\u001b[0m                                  ^\u001b[0m\n\u001b[0;31mSyntaxError\u001b[0m\u001b[0;31m:\u001b[0m incomplete input\n"
     ]
    }
   ],
   "source": [
    "def function_name():\n",
    "    # function body starts \n",
    "    \n",
    "    \n",
    "    \n",
    "    # function body ends\n",
    "    \n",
    "#call function in the code    "
   ]
  },
  {
   "cell_type": "code",
   "execution_count": 4,
   "id": "2aa597ee",
   "metadata": {},
   "outputs": [],
   "source": [
    "def anup():\n",
    "    print(\"My name is Anup. I love dancing\")    "
   ]
  },
  {
   "cell_type": "code",
   "execution_count": 5,
   "id": "b98769f9",
   "metadata": {},
   "outputs": [
    {
     "name": "stdout",
     "output_type": "stream",
     "text": [
      "My name is Anup. I love dancing\n"
     ]
    }
   ],
   "source": [
    "anup()"
   ]
  },
  {
   "cell_type": "code",
   "execution_count": 13,
   "id": "1dea85ef",
   "metadata": {},
   "outputs": [],
   "source": [
    "def print_name(name):\n",
    "    \"\"\"\n",
    "    This function prints the name\n",
    "    \n",
    "    \"\"\"\n",
    "    print('Hello ' + name)\n",
    "    "
   ]
  },
  {
   "cell_type": "code",
   "execution_count": 18,
   "id": "aaaad02e",
   "metadata": {},
   "outputs": [
    {
     "ename": "TypeError",
     "evalue": "can only concatenate str (not \"int\") to str",
     "output_type": "error",
     "traceback": [
      "\u001b[0;31m---------------------------------------------------------------------------\u001b[0m",
      "\u001b[0;31mTypeError\u001b[0m                                 Traceback (most recent call last)",
      "Cell \u001b[0;32mIn[18], line 1\u001b[0m\n\u001b[0;32m----> 1\u001b[0m print_name(\u001b[38;5;241m1234\u001b[39m)\n",
      "Cell \u001b[0;32mIn[13], line 6\u001b[0m, in \u001b[0;36mprint_name\u001b[0;34m(name)\u001b[0m\n\u001b[1;32m      1\u001b[0m \u001b[38;5;28;01mdef\u001b[39;00m \u001b[38;5;21mprint_name\u001b[39m(name):\n\u001b[1;32m      2\u001b[0m \u001b[38;5;250m    \u001b[39m\u001b[38;5;124;03m\"\"\"\u001b[39;00m\n\u001b[1;32m      3\u001b[0m \u001b[38;5;124;03m    This function prints the name\u001b[39;00m\n\u001b[1;32m      4\u001b[0m \u001b[38;5;124;03m    \u001b[39;00m\n\u001b[1;32m      5\u001b[0m \u001b[38;5;124;03m    \"\"\"\u001b[39;00m\n\u001b[0;32m----> 6\u001b[0m     \u001b[38;5;28mprint\u001b[39m(\u001b[38;5;124m'\u001b[39m\u001b[38;5;124mHello \u001b[39m\u001b[38;5;124m'\u001b[39m \u001b[38;5;241m+\u001b[39m name)\n",
      "\u001b[0;31mTypeError\u001b[0m: can only concatenate str (not \"int\") to str"
     ]
    }
   ],
   "source": [
    "print_name(1234)"
   ]
  },
  {
   "cell_type": "code",
   "execution_count": 15,
   "id": "6660ab92",
   "metadata": {},
   "outputs": [
    {
     "name": "stdout",
     "output_type": "stream",
     "text": [
      "Hello ruchi\n"
     ]
    }
   ],
   "source": [
    "print_name('ruchi')"
   ]
  },
  {
   "cell_type": "code",
   "execution_count": 17,
   "id": "98a5ce2d",
   "metadata": {},
   "outputs": [
    {
     "name": "stdout",
     "output_type": "stream",
     "text": [
      "Hello shanker\n"
     ]
    }
   ],
   "source": [
    "print_name(\"shanker\")"
   ]
  },
  {
   "cell_type": "code",
   "execution_count": 19,
   "id": "bcc14625",
   "metadata": {},
   "outputs": [],
   "source": [
    "def print_name(name):\n",
    "    \"\"\"\n",
    "    This function prints the name\n",
    "    \n",
    "    \"\"\"\n",
    "    print('Hello ' + str(name))"
   ]
  },
  {
   "cell_type": "code",
   "execution_count": 22,
   "id": "be459fac",
   "metadata": {},
   "outputs": [
    {
     "name": "stdout",
     "output_type": "stream",
     "text": [
      "Hello 5678\n"
     ]
    }
   ],
   "source": [
    "print_name(5678)"
   ]
  },
  {
   "cell_type": "code",
   "execution_count": 23,
   "id": "d4f4f577",
   "metadata": {},
   "outputs": [
    {
     "name": "stdout",
     "output_type": "stream",
     "text": [
      "\n",
      "    This function prints the name\n",
      "    \n",
      "    \n"
     ]
    }
   ],
   "source": [
    "print(print_name.__doc__) # print doc string of the function"
   ]
  },
  {
   "cell_type": "code",
   "execution_count": 24,
   "id": "dfe920c7",
   "metadata": {},
   "outputs": [
    {
     "name": "stdout",
     "output_type": "stream",
     "text": [
      "You have BIKE: True\n",
      "You have CAR: True\n",
      "You can travel 100 KMs: True\n",
      "\n"
     ]
    }
   ],
   "source": [
    "# Block One\n",
    "BIKE = True\n",
    "CAR = True\n",
    "TRAVEL_100_KM = BIKE or CAR\n",
    "\n",
    "print(f\"You have BIKE: {BIKE}\")\n",
    "print(f\"You have CAR: {CAR}\")\n",
    "print(f\"You can travel 100 KMs: {TRAVEL_100_KM}\\n\")"
   ]
  },
  {
   "cell_type": "code",
   "execution_count": 25,
   "id": "a19d95ba",
   "metadata": {},
   "outputs": [
    {
     "name": "stdout",
     "output_type": "stream",
     "text": [
      "You have BIKE: True\n",
      "You have CAR: False\n",
      "You can travel 100 KMs: True\n",
      "\n"
     ]
    }
   ],
   "source": [
    "# Block Two\n",
    "BIKE = True\n",
    "CAR = False\n",
    "TRAVEL_100_KM = BIKE or CAR\n",
    "\n",
    "print(f\"You have BIKE: {BIKE}\")\n",
    "print(f\"You have CAR: {CAR}\")\n",
    "print(f\"You can travel 100 KMs: {TRAVEL_100_KM}\\n\")"
   ]
  },
  {
   "cell_type": "code",
   "execution_count": 26,
   "id": "014eae39",
   "metadata": {},
   "outputs": [
    {
     "name": "stdout",
     "output_type": "stream",
     "text": [
      "You have BIKE: False\n",
      "You have CAR: True\n",
      "You can travel 100 KMs: True\n",
      "\n"
     ]
    }
   ],
   "source": [
    "# Block Three\n",
    "BIKE = False\n",
    "CAR = True\n",
    "TRAVEL_100_KM = BIKE or CAR\n",
    "\n",
    "print(f\"You have BIKE: {BIKE}\")\n",
    "print(f\"You have CAR: {CAR}\")\n",
    "print(f\"You can travel 100 KMs: {TRAVEL_100_KM}\\n\")"
   ]
  },
  {
   "cell_type": "code",
   "execution_count": 27,
   "id": "da7d933d",
   "metadata": {},
   "outputs": [
    {
     "name": "stdout",
     "output_type": "stream",
     "text": [
      "You have BIKE: False\n",
      "You have CAR: False\n",
      "You can travel 100 KMs: False\n",
      "\n"
     ]
    }
   ],
   "source": [
    "# Block Four\n",
    "BIKE = False\n",
    "CAR = False\n",
    "TRAVEL_100_KM = BIKE or CAR\n",
    "\n",
    "print(f\"You have BIKE: {BIKE}\")\n",
    "print(f\"You have CAR: {CAR}\")\n",
    "print(f\"You can travel 100 KMs: {TRAVEL_100_KM}\\n\")"
   ]
  },
  {
   "cell_type": "code",
   "execution_count": 28,
   "id": "2f23768c",
   "metadata": {},
   "outputs": [],
   "source": [
    "def travel_or_not(BIKE, CAR):\n",
    "    TRAVEL_100_KM = BIKE or CAR\n",
    "\n",
    "    print(f\"You have BIKE: {BIKE}\")\n",
    "    print(f\"You have CAR: {CAR}\")\n",
    "    print(f\"You can travel 100 KMs: {TRAVEL_100_KM}\\n\")\n"
   ]
  },
  {
   "cell_type": "code",
   "execution_count": 34,
   "id": "c30e0cce",
   "metadata": {},
   "outputs": [
    {
     "name": "stdout",
     "output_type": "stream",
     "text": [
      "You have BIKE: Ruchi\n",
      "You have CAR: Shanker\n",
      "You can travel 100 KMs: Ruchi\n",
      "\n"
     ]
    }
   ],
   "source": [
    "travel_or_not('Ruchi', 'Shanker')"
   ]
  },
  {
   "cell_type": "code",
   "execution_count": 30,
   "id": "d40bfec3",
   "metadata": {},
   "outputs": [
    {
     "name": "stdout",
     "output_type": "stream",
     "text": [
      "You have BIKE: True\n",
      "You have CAR: False\n",
      "You can travel 100 KMs: True\n",
      "\n"
     ]
    }
   ],
   "source": [
    "travel_or_not(True, False)"
   ]
  },
  {
   "cell_type": "code",
   "execution_count": 31,
   "id": "5769daec",
   "metadata": {},
   "outputs": [
    {
     "name": "stdout",
     "output_type": "stream",
     "text": [
      "You have BIKE: False\n",
      "You have CAR: False\n",
      "You can travel 100 KMs: False\n",
      "\n"
     ]
    }
   ],
   "source": [
    "travel_or_not(False, False)"
   ]
  },
  {
   "cell_type": "code",
   "execution_count": 37,
   "id": "fb7dee65",
   "metadata": {},
   "outputs": [],
   "source": [
    "def travel_or_not(BIKE='Ruchi', CAR='radhe'): # Default Argument\n",
    "    TRAVEL_100_KM = BIKE or CAR\n",
    "\n",
    "    print(f\"You have BIKE: {BIKE}\")\n",
    "    print(f\"You have CAR: {CAR}\")\n",
    "    print(f\"You can travel 100 KMs: {TRAVEL_100_KM}\\n\")"
   ]
  },
  {
   "cell_type": "code",
   "execution_count": 38,
   "id": "4e8393a9",
   "metadata": {},
   "outputs": [
    {
     "name": "stdout",
     "output_type": "stream",
     "text": [
      "You have BIKE: Ruchi\n",
      "You have CAR: radhe\n",
      "You can travel 100 KMs: Ruchi\n",
      "\n"
     ]
    }
   ],
   "source": [
    "travel_or_not()"
   ]
  },
  {
   "cell_type": "code",
   "execution_count": 39,
   "id": "bd9c5274",
   "metadata": {},
   "outputs": [],
   "source": [
    "def travel_or_not(BIKE, CAR): # Default Argument\n",
    "    TRAVEL_100_KM = BIKE or CAR\n",
    "\n",
    "    print(f\"You have BIKE: {BIKE}\")\n",
    "    print(f\"You have CAR: {CAR}\")\n",
    "    print(f\"You can travel 100 KMs: {TRAVEL_100_KM}\\n\")"
   ]
  },
  {
   "cell_type": "code",
   "execution_count": 41,
   "id": "30222059",
   "metadata": {},
   "outputs": [
    {
     "name": "stdout",
     "output_type": "stream",
     "text": [
      "You have BIKE: Jesus\n",
      "You have CAR: joan\n",
      "You can travel 100 KMs: Jesus\n",
      "\n"
     ]
    }
   ],
   "source": [
    "travel_or_not('Jesus', 'joan')"
   ]
  },
  {
   "cell_type": "code",
   "execution_count": 42,
   "id": "ee198b6e",
   "metadata": {},
   "outputs": [],
   "source": [
    "def travel_or_not(BIKE='Ruchi', CAR='radhe'): # Default Argument\n",
    "    TRAVEL_100_KM = BIKE or CAR\n",
    "\n",
    "    print(f\"You have BIKE: {BIKE}\")\n",
    "    print(f\"You have CAR: {CAR}\")\n",
    "    print(f\"You can travel 100 KMs: {TRAVEL_100_KM}\\n\")"
   ]
  },
  {
   "cell_type": "code",
   "execution_count": 43,
   "id": "2fbbe9a5",
   "metadata": {},
   "outputs": [
    {
     "name": "stdout",
     "output_type": "stream",
     "text": [
      "You have BIKE: Ruchi\n",
      "You have CAR: radhe\n",
      "You can travel 100 KMs: Ruchi\n",
      "\n"
     ]
    }
   ],
   "source": [
    "travel_or_not()"
   ]
  },
  {
   "cell_type": "code",
   "execution_count": 44,
   "id": "d4069f54",
   "metadata": {},
   "outputs": [
    {
     "name": "stdout",
     "output_type": "stream",
     "text": [
      "You have BIKE: Big\n",
      "You have CAR: Ban\n",
      "You can travel 100 KMs: Big\n",
      "\n"
     ]
    }
   ],
   "source": [
    "travel_or_not(\"Big\", \"Ban\") # overriding the default arguments by passing our value"
   ]
  },
  {
   "cell_type": "code",
   "execution_count": 45,
   "id": "4b1daec4",
   "metadata": {},
   "outputs": [],
   "source": [
    "#return statement\n",
    "\n",
    "def name():\n",
    "    print(\"My name is Anup\")"
   ]
  },
  {
   "cell_type": "code",
   "execution_count": 46,
   "id": "4656e7a7",
   "metadata": {},
   "outputs": [
    {
     "name": "stdout",
     "output_type": "stream",
     "text": [
      "My name is Anup\n"
     ]
    }
   ],
   "source": [
    "name()"
   ]
  },
  {
   "cell_type": "code",
   "execution_count": 47,
   "id": "1027d2c3",
   "metadata": {},
   "outputs": [],
   "source": [
    "def name1():\n",
    "    return \"My name is Anup\""
   ]
  },
  {
   "cell_type": "code",
   "execution_count": 48,
   "id": "08149854",
   "metadata": {},
   "outputs": [
    {
     "name": "stdout",
     "output_type": "stream",
     "text": [
      "My name is Anup\n"
     ]
    }
   ],
   "source": [
    "name()"
   ]
  },
  {
   "cell_type": "code",
   "execution_count": 49,
   "id": "9a9611bb",
   "metadata": {},
   "outputs": [],
   "source": [
    "def add_num(a,b):\n",
    "    c = a + b\n",
    "    print(c)"
   ]
  },
  {
   "cell_type": "code",
   "execution_count": 50,
   "id": "161f9981",
   "metadata": {},
   "outputs": [
    {
     "name": "stdout",
     "output_type": "stream",
     "text": [
      "11\n"
     ]
    }
   ],
   "source": [
    "add_num(5,6)"
   ]
  },
  {
   "cell_type": "code",
   "execution_count": 51,
   "id": "9fb4610b",
   "metadata": {},
   "outputs": [
    {
     "name": "stdout",
     "output_type": "stream",
     "text": [
      "15\n"
     ]
    }
   ],
   "source": [
    "result1 = add_num(7,8)"
   ]
  },
  {
   "cell_type": "code",
   "execution_count": 52,
   "id": "80f1829e",
   "metadata": {},
   "outputs": [
    {
     "name": "stdout",
     "output_type": "stream",
     "text": [
      "None\n"
     ]
    }
   ],
   "source": [
    "print(result1)"
   ]
  },
  {
   "cell_type": "code",
   "execution_count": 53,
   "id": "bbfcef8f",
   "metadata": {},
   "outputs": [],
   "source": [
    "def add_num2(a,b):\n",
    "    c = a + b\n",
    "    return c"
   ]
  },
  {
   "cell_type": "code",
   "execution_count": 54,
   "id": "3177607e",
   "metadata": {},
   "outputs": [
    {
     "data": {
      "text/plain": [
       "30"
      ]
     },
     "execution_count": 54,
     "metadata": {},
     "output_type": "execute_result"
    }
   ],
   "source": [
    "add_num2(10,20)"
   ]
  },
  {
   "cell_type": "code",
   "execution_count": 55,
   "id": "248faaba",
   "metadata": {},
   "outputs": [],
   "source": [
    "result2 = add_num2(10,20)"
   ]
  },
  {
   "cell_type": "code",
   "execution_count": 56,
   "id": "0ca3ac39",
   "metadata": {},
   "outputs": [
    {
     "name": "stdout",
     "output_type": "stream",
     "text": [
      "30\n"
     ]
    }
   ],
   "source": [
    "print(result2)"
   ]
  },
  {
   "cell_type": "code",
   "execution_count": 57,
   "id": "07eefa15",
   "metadata": {},
   "outputs": [],
   "source": [
    "def travel_or_not(BIKE=True, CAR= False): # Default Argument\n",
    "    TRAVEL_100_KM = BIKE or CAR\n",
    "\n",
    "    print(f\"You have BIKE: {BIKE}\")\n",
    "    print(f\"You have CAR: {CAR}\")\n",
    "    print(f\"You can travel 100 KMs: {TRAVEL_100_KM}\\n\")"
   ]
  },
  {
   "cell_type": "code",
   "execution_count": 58,
   "id": "e55143d5",
   "metadata": {},
   "outputs": [
    {
     "name": "stdout",
     "output_type": "stream",
     "text": [
      "You have BIKE: False\n",
      "You have CAR: True\n",
      "You can travel 100 KMs: True\n",
      "\n"
     ]
    }
   ],
   "source": [
    "travel_or_not(False, True)"
   ]
  },
  {
   "cell_type": "code",
   "execution_count": 60,
   "id": "d03ee404",
   "metadata": {},
   "outputs": [
    {
     "name": "stdout",
     "output_type": "stream",
     "text": [
      "You have BIKE: False\n",
      "You have CAR: True\n",
      "You can travel 100 KMs: True\n",
      "\n"
     ]
    }
   ],
   "source": [
    "result3 = travel_or_not(False, True)"
   ]
  },
  {
   "cell_type": "code",
   "execution_count": 61,
   "id": "b7f9bdc3",
   "metadata": {},
   "outputs": [
    {
     "name": "stdout",
     "output_type": "stream",
     "text": [
      "None\n"
     ]
    }
   ],
   "source": [
    "print(result3)"
   ]
  },
  {
   "cell_type": "code",
   "execution_count": 64,
   "id": "2d940a42",
   "metadata": {},
   "outputs": [],
   "source": [
    "def travel_or_not(BIKE=True, CAR= False): # Default Argument\n",
    "    TRAVEL_100_KM = BIKE or CAR\n",
    "\n",
    "    print(f\"You have BIKE: {BIKE}\")\n",
    "    print(f\"You have CAR: {CAR}\")\n",
    "    return f\"You can travel 100 KMs: {TRAVEL_100_KM}\""
   ]
  },
  {
   "cell_type": "code",
   "execution_count": 65,
   "id": "2c1e2947",
   "metadata": {},
   "outputs": [
    {
     "name": "stdout",
     "output_type": "stream",
     "text": [
      "You have BIKE: True\n",
      "You have CAR: False\n"
     ]
    },
    {
     "data": {
      "text/plain": [
       "'You can travel 100 KMs: True'"
      ]
     },
     "execution_count": 65,
     "metadata": {},
     "output_type": "execute_result"
    }
   ],
   "source": [
    "travel_or_not()"
   ]
  },
  {
   "cell_type": "code",
   "execution_count": 66,
   "id": "cdea2e4a",
   "metadata": {},
   "outputs": [
    {
     "name": "stdout",
     "output_type": "stream",
     "text": [
      "You have BIKE: True\n",
      "You have CAR: False\n"
     ]
    }
   ],
   "source": [
    "result4 = travel_or_not()"
   ]
  },
  {
   "cell_type": "code",
   "execution_count": 67,
   "id": "5de9be87",
   "metadata": {},
   "outputs": [
    {
     "name": "stdout",
     "output_type": "stream",
     "text": [
      "You can travel 100 KMs: True\n"
     ]
    }
   ],
   "source": [
    "print(result4)"
   ]
  },
  {
   "cell_type": "code",
   "execution_count": 68,
   "id": "beb4ca0a",
   "metadata": {},
   "outputs": [],
   "source": [
    "# returning multiple values from a function\n",
    "\n",
    "def travel_or_not(BIKE=True, CAR= False): # Default Argument\n",
    "    TRAVEL_100_KM = BIKE or CAR\n",
    "    \n",
    "    return BIKE, CAR, TRAVEL_100_KM   "
   ]
  },
  {
   "cell_type": "code",
   "execution_count": 69,
   "id": "da04001d",
   "metadata": {},
   "outputs": [],
   "source": [
    "result1, result2, result3 = travel_or_not(False, True)"
   ]
  },
  {
   "cell_type": "code",
   "execution_count": 70,
   "id": "c9253849",
   "metadata": {},
   "outputs": [
    {
     "name": "stdout",
     "output_type": "stream",
     "text": [
      "False\n",
      "True\n",
      "True\n"
     ]
    }
   ],
   "source": [
    "print(result1)\n",
    "print(result2)\n",
    "print(result3)"
   ]
  },
  {
   "cell_type": "code",
   "execution_count": null,
   "id": "a13af84b",
   "metadata": {},
   "outputs": [],
   "source": [
    "# Variable Length argument\n",
    "\n"
   ]
  },
  {
   "cell_type": "code",
   "execution_count": null,
   "id": "2e6b033b",
   "metadata": {},
   "outputs": [],
   "source": [
    "def add_num(a,b,c,d,e):\n",
    "    s = a + b + c + d + e\n",
    "    print(s)"
   ]
  },
  {
   "cell_type": "code",
   "execution_count": null,
   "id": "70ab0596",
   "metadata": {},
   "outputs": [],
   "source": [
    "# I do not know in advance how many argument i need to supply"
   ]
  },
  {
   "cell_type": "code",
   "execution_count": 71,
   "id": "1596aecb",
   "metadata": {},
   "outputs": [],
   "source": [
    "def add_num(*args):\n",
    "    return args"
   ]
  },
  {
   "cell_type": "code",
   "execution_count": 72,
   "id": "6d408591",
   "metadata": {},
   "outputs": [
    {
     "data": {
      "text/plain": [
       "(2, 3)"
      ]
     },
     "execution_count": 72,
     "metadata": {},
     "output_type": "execute_result"
    }
   ],
   "source": [
    "add_num(2,3)"
   ]
  },
  {
   "cell_type": "code",
   "execution_count": 73,
   "id": "f9d5141b",
   "metadata": {},
   "outputs": [
    {
     "data": {
      "text/plain": [
       "(1, 2, 3, 4, 5, 6, 7, 8, 9)"
      ]
     },
     "execution_count": 73,
     "metadata": {},
     "output_type": "execute_result"
    }
   ],
   "source": [
    "add_num(1,2,3,4,5,6,7,8,9)"
   ]
  },
  {
   "cell_type": "code",
   "execution_count": 74,
   "id": "be358889",
   "metadata": {},
   "outputs": [],
   "source": [
    "def add_num(*args):\n",
    "    return sum(args)"
   ]
  },
  {
   "cell_type": "code",
   "execution_count": 75,
   "id": "90c493eb",
   "metadata": {},
   "outputs": [
    {
     "data": {
      "text/plain": [
       "20"
      ]
     },
     "execution_count": 75,
     "metadata": {},
     "output_type": "execute_result"
    }
   ],
   "source": [
    "add_num(2,3,4,5,6)"
   ]
  },
  {
   "cell_type": "code",
   "execution_count": 84,
   "id": "443e784d",
   "metadata": {},
   "outputs": [],
   "source": [
    "def branch_and_subject_in_graduation(*args, branch):\n",
    "    print(f\"My branch was {branch}\")\n",
    "    return f\"I liked these subjects in graduation {args}\"    "
   ]
  },
  {
   "cell_type": "code",
   "execution_count": 85,
   "id": "aeebb990",
   "metadata": {},
   "outputs": [
    {
     "name": "stdout",
     "output_type": "stream",
     "text": [
      "My branch was CS\n"
     ]
    }
   ],
   "source": [
    "results = branch_and_subject_in_graduation(\"Biochemistry\", \"Thermo\", \"java\", \"Environmental Science\", \"Python\", branch = 'CS')"
   ]
  },
  {
   "cell_type": "code",
   "execution_count": 86,
   "id": "e71efc92",
   "metadata": {},
   "outputs": [
    {
     "name": "stdout",
     "output_type": "stream",
     "text": [
      "I liked these subjects in graduation ('Biochemistry', 'Thermo', 'java', 'Environmental Science', 'Python')\n"
     ]
    }
   ],
   "source": [
    "print(results)"
   ]
  },
  {
   "cell_type": "code",
   "execution_count": 87,
   "id": "7584b5af",
   "metadata": {},
   "outputs": [],
   "source": [
    "# Variable length Keyword args\n",
    "\n",
    "def marks_in_subjects_of_semester(**kwargs):\n",
    "    print(kwargs)"
   ]
  },
  {
   "cell_type": "code",
   "execution_count": 88,
   "id": "c4cfc481",
   "metadata": {},
   "outputs": [
    {
     "name": "stdout",
     "output_type": "stream",
     "text": [
      "{'Bioinformatics': 180, 'Streochemistry': 195, 'Maths': 196, 'TOM': 175, 'EVS': 200}\n"
     ]
    }
   ],
   "source": [
    "marks_in_subjects_of_semester(Bioinformatics = 180, Streochemistry = 195, Maths = 196, TOM = 175, EVS = 200)"
   ]
  },
  {
   "cell_type": "code",
   "execution_count": 91,
   "id": "22e3ad58",
   "metadata": {},
   "outputs": [],
   "source": [
    "def marks_in_subjects_of_semester(**kwargs):\n",
    "    for subject, marks in kwargs.items():\n",
    "        print(f\"Score in {subject} = {marks}\")\n",
    "    "
   ]
  },
  {
   "cell_type": "code",
   "execution_count": 92,
   "id": "f3846a0d",
   "metadata": {},
   "outputs": [
    {
     "name": "stdout",
     "output_type": "stream",
     "text": [
      "Score in Bioinformatics = 180\n",
      "Score in Streochemistry = 195\n",
      "Score in Maths = 196\n",
      "Score in TOM = 175\n",
      "Score in EVS = 200\n"
     ]
    }
   ],
   "source": [
    "marks_in_subjects_of_semester(Bioinformatics = 180, Streochemistry = 195, Maths = 196, TOM = 175, EVS = 200)"
   ]
  },
  {
   "cell_type": "code",
   "execution_count": 93,
   "id": "c485ff8c",
   "metadata": {},
   "outputs": [
    {
     "name": "stdout",
     "output_type": "stream",
     "text": [
      "Score in Bioinformatics = 180\n",
      "Score in Streochemistry = 195\n",
      "Score in Maths = 196\n",
      "Score in TOM = 175\n",
      "Score in EVS = 200\n"
     ]
    }
   ],
   "source": [
    "result = marks_in_subjects_of_semester(Bioinformatics = 180, Streochemistry = 195, Maths = 196, TOM = 175, EVS = 200)"
   ]
  },
  {
   "cell_type": "code",
   "execution_count": 94,
   "id": "98e42946",
   "metadata": {},
   "outputs": [
    {
     "name": "stdout",
     "output_type": "stream",
     "text": [
      "None\n"
     ]
    }
   ],
   "source": [
    "print(result)"
   ]
  },
  {
   "cell_type": "code",
   "execution_count": null,
   "id": "19b6175e",
   "metadata": {},
   "outputs": [],
   "source": []
  },
  {
   "cell_type": "code",
   "execution_count": null,
   "id": "57822582",
   "metadata": {},
   "outputs": [],
   "source": []
  },
  {
   "cell_type": "code",
   "execution_count": null,
   "id": "ea9273f9",
   "metadata": {},
   "outputs": [],
   "source": []
  },
  {
   "cell_type": "code",
   "execution_count": null,
   "id": "07a16355",
   "metadata": {},
   "outputs": [],
   "source": []
  },
  {
   "cell_type": "code",
   "execution_count": null,
   "id": "23793c1d",
   "metadata": {},
   "outputs": [],
   "source": []
  },
  {
   "cell_type": "code",
   "execution_count": null,
   "id": "e686776d",
   "metadata": {},
   "outputs": [],
   "source": []
  },
  {
   "cell_type": "code",
   "execution_count": null,
   "id": "77adc769",
   "metadata": {},
   "outputs": [],
   "source": []
  },
  {
   "cell_type": "code",
   "execution_count": null,
   "id": "debdf72b",
   "metadata": {},
   "outputs": [],
   "source": []
  },
  {
   "cell_type": "code",
   "execution_count": null,
   "id": "67a20aab",
   "metadata": {},
   "outputs": [],
   "source": []
  },
  {
   "cell_type": "code",
   "execution_count": null,
   "id": "9734a506",
   "metadata": {},
   "outputs": [],
   "source": []
  },
  {
   "cell_type": "code",
   "execution_count": null,
   "id": "db3538f3",
   "metadata": {},
   "outputs": [],
   "source": []
  },
  {
   "cell_type": "code",
   "execution_count": null,
   "id": "e0af988d",
   "metadata": {},
   "outputs": [],
   "source": []
  }
 ],
 "metadata": {
  "kernelspec": {
   "display_name": "Python 3 (ipykernel)",
   "language": "python",
   "name": "python3"
  },
  "language_info": {
   "codemirror_mode": {
    "name": "ipython",
    "version": 3
   },
   "file_extension": ".py",
   "mimetype": "text/x-python",
   "name": "python",
   "nbconvert_exporter": "python",
   "pygments_lexer": "ipython3",
   "version": "3.11.4"
  }
 },
 "nbformat": 4,
 "nbformat_minor": 5
}
